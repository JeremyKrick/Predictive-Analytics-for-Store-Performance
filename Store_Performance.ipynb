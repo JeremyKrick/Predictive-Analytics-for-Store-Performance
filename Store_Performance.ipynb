{
  "nbformat": 4,
  "nbformat_minor": 0,
  "metadata": {
    "colab": {
      "provenance": [],
      "toc_visible": true,
      "authorship_tag": "ABX9TyO8CszwYF0AioQJiy4Qs3sQ",
      "include_colab_link": true
    },
    "kernelspec": {
      "name": "python3",
      "display_name": "Python 3"
    },
    "language_info": {
      "name": "python"
    }
  },
  "cells": [
    {
      "cell_type": "markdown",
      "metadata": {
        "id": "view-in-github",
        "colab_type": "text"
      },
      "source": [
        "<a href=\"https://colab.research.google.com/github/JeremyKrick/Predictive-Analytics-for-Store-Performance/blob/jeremy_dev/Store_Performance.ipynb\" target=\"_parent\"><img src=\"https://colab.research.google.com/assets/colab-badge.svg\" alt=\"Open In Colab\"/></a>"
      ]
    },
    {
      "cell_type": "code",
      "execution_count": null,
      "metadata": {
        "id": "cheNVRNNZ0rQ"
      },
      "outputs": [],
      "source": [
        "#@title Loading the required libraries\n",
        "import pandas as pd # Pandas for data manipulation\n",
        "import seaborn as sns # Seaborn for visualizing. Note: we will also use one of the data sets\n",
        "import matplotlib.pyplot as plt # Matplotlib for subplots\n",
        "%matplotlib inline\n",
        "\n",
        "from sklearn.model_selection import train_test_split,  RandomizedSearchCV # Import train_test_split function\n",
        "from sklearn import metrics, svm # Import scikit-learn metrics module for accuracy calculation\n",
        "from sklearn.preprocessing import OneHotEncoder, MinMaxScaler # Import for feature standardization\n",
        "from sklearn.impute import SimpleImputer\n",
        "from sklearn.compose import ColumnTransformer\n",
        "from sklearn.pipeline import Pipeline\n",
        "from imblearn.pipeline import Pipeline\n",
        "from imblearn.under_sampling import RandomUnderSampler\n",
        "from sklearn.ensemble import GradientBoostingClassifier"
      ]
    },
    {
      "cell_type": "markdown",
      "source": [
        "### Data Processing"
      ],
      "metadata": {
        "id": "EmI7HGSibBBw"
      }
    }
  ]
}